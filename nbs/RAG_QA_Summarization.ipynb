{
 "cells": [
  {
   "cell_type": "code",
   "execution_count": 2,
   "metadata": {},
   "outputs": [],
   "source": [
    "import pprint\n",
    "import os"
   ]
  },
  {
   "cell_type": "markdown",
   "metadata": {},
   "source": [
    "# Create VectorStore"
   ]
  },
  {
   "cell_type": "code",
   "execution_count": 1,
   "metadata": {},
   "outputs": [],
   "source": [
    "from langchain.vectorstores import FAISS\n",
    "from langchain.embeddings import HuggingFaceInstructEmbeddings"
   ]
  },
  {
   "cell_type": "code",
   "execution_count": 29,
   "metadata": {},
   "outputs": [
    {
     "name": "stdout",
     "output_type": "stream",
     "text": [
      "load INSTRUCTOR_Transformer\n",
      "max_seq_length  512\n"
     ]
    }
   ],
   "source": [
    "model_name = \"hkunlp/instructor-large\"\n",
    "model_kwargs = {'device': 'cuda'}\n",
    "encode_kwargs = {'normalize_embeddings': True}\n",
    "hf = HuggingFaceInstructEmbeddings(\n",
    "    model_name=model_name,\n",
    "    model_kwargs=model_kwargs,\n",
    "    encode_kwargs=encode_kwargs,\n",
    ")"
   ]
  },
  {
   "cell_type": "code",
   "execution_count": 4,
   "metadata": {},
   "outputs": [
    {
     "data": {
      "application/vnd.jupyter.widget-view+json": {
       "model_id": "9d1515fd96524a9080bba0e8b6219791",
       "version_major": 2,
       "version_minor": 0
      },
      "text/plain": [
       "Fetching 1 files:   0%|          | 0/1 [00:00<?, ?it/s]"
      ]
     },
     "metadata": {},
     "output_type": "display_data"
    },
    {
     "data": {
      "application/vnd.jupyter.widget-view+json": {
       "model_id": "eb420978da1a4770bacd94a2ef130b75",
       "version_major": 2,
       "version_minor": 0
      },
      "text/plain": [
       "Fetching 1 files:   0%|          | 0/1 [00:00<?, ?it/s]"
      ]
     },
     "metadata": {},
     "output_type": "display_data"
    }
   ],
   "source": [
    "from langchain.llms import CTransformers\n",
    "model = CTransformers(model=\"TheBloke/Llama-2-7B-GGUF\",model_file=\"llama-2-7b.Q4_K_M.gguf\", model_type=\"llama\",config={\"gpu_layers\":50})"
   ]
  },
  {
   "cell_type": "code",
   "execution_count": 5,
   "metadata": {},
   "outputs": [
    {
     "name": "stdout",
     "output_type": "stream",
     "text": [
      "('\\n'\n",
      " 'Retrieval Augmented Generation (RAG) is a new approach to the problem of '\n",
      " 'generating text from a given input. It combines two techniques: retrieval '\n",
      " 'and generation. In RAG, we first retrieve relevant documents from a large '\n",
      " 'corpus using a search engine. We then use these retrieved documents as '\n",
      " 'inputs for a neural network that generates new text based on the input.\\n'\n",
      " 'The advantage of this approach is that it can generate more diverse and '\n",
      " 'higher-quality output than traditional methods such as GPT-3 or BERT. '\n",
      " 'Additionally, RAG is less computationally expensive since it does not '\n",
      " 'require training a large model from scratch.\\n'\n",
      " 'There are several different ways to implement RAG, but one popular method is '\n",
      " 'to use a transformer-based architecture. In this case, the input documents '\n",
      " 'are fed into an encoder layer of the transformer network and then passed '\n",
      " 'through a decoder layer that generates new text based on the input.\\n'\n",
      " 'Another way to implement RAG is by using a recurrent neural network (RNN). '\n",
      " 'In this case, the input documents are fed into an LSTM or GRU cell and then '\n",
      " 'passed through another LSTM or GRU cell that generates new text based on the '\n",
      " 'input.\\n'\n",
      " 'RAG has been shown')\n"
     ]
    }
   ],
   "source": [
    "pprint.pprint(model(\"what is retrieval augmented generation\"))"
   ]
  },
  {
   "cell_type": "markdown",
   "metadata": {},
   "source": [
    "# Load PDF files"
   ]
  },
  {
   "cell_type": "code",
   "execution_count": 16,
   "metadata": {},
   "outputs": [],
   "source": [
    "from langchain.document_loaders import PyPDFLoader\n",
    "import pandas as pd"
   ]
  },
  {
   "cell_type": "code",
   "execution_count": 17,
   "metadata": {},
   "outputs": [],
   "source": [
    "DATA_DIR = '../data/gsk/'\n",
    "df = pd.read_pickle(os.path.join(DATA_DIR, 'gsk.pkl'))"
   ]
  },
  {
   "cell_type": "code",
   "execution_count": 22,
   "metadata": {},
   "outputs": [],
   "source": [
    "pages = []\n",
    "for i, row in df.iterrows():\n",
    "    pages.extend(PyPDFLoader(os.path.join(DATA_DIR,row['file_name']+'.pdf')).load())"
   ]
  },
  {
   "cell_type": "code",
   "execution_count": 24,
   "metadata": {},
   "outputs": [
    {
     "data": {
      "text/plain": [
       "148"
      ]
     },
     "execution_count": 24,
     "metadata": {},
     "output_type": "execute_result"
    }
   ],
   "source": [
    "len(pages)"
   ]
  },
  {
   "cell_type": "code",
   "execution_count": 35,
   "metadata": {},
   "outputs": [
    {
     "data": {
      "text/plain": [
       "Document(page_content='For media and investors only  \\n  \\n \\nPress release  1 \\n \\nIssued: 6 December  2023, London  UK \\n \\nNew global analysis  across five cities  shows inequities in \\nadult immunisation  uptake,  signalling need to redesign \\nlocal and national policy interventions  \\n• New IQVIA Institute for Human Data Science report , funded by GSK , explore s \\nthe role of social and structural determinants of health  to identify enablers and \\nbarriers to vaccine uptake  in Bangkok, B russels , Chicago,  Manchester  and \\nNew York City  \\n• As one example, in both New York City and Chicago, household income, \\neducation and median house value are highly correlated with immunisation  \\nrates across all vaccines studied    \\n• Findings to be presented today at the Global Coalition on Aging’s Silver \\nEconomy Forum 2023   \\n \\nGSK plc (LSE/NYSE: GSK), in collaboration  with the Global Coalition on Aging (GCOA), announced a new report', metadata={'source': '../data/gsk/25444525-90d9-428c-9bc5-f11832e62315.pdf', 'page': 0})"
      ]
     },
     "execution_count": 35,
     "metadata": {},
     "output_type": "execute_result"
    }
   ],
   "source": [
    "all_splits[0]"
   ]
  },
  {
   "cell_type": "code",
   "execution_count": 25,
   "metadata": {},
   "outputs": [],
   "source": [
    "from langchain.text_splitter import RecursiveCharacterTextSplitter\n",
    "\n",
    "text_splitter = RecursiveCharacterTextSplitter(chunk_size=1000, chunk_overlap=20)\n",
    "all_splits = text_splitter.split_documents(pages)"
   ]
  },
  {
   "cell_type": "code",
   "execution_count": 26,
   "metadata": {},
   "outputs": [
    {
     "data": {
      "text/plain": [
       "542"
      ]
     },
     "execution_count": 26,
     "metadata": {},
     "output_type": "execute_result"
    }
   ],
   "source": [
    "len(all_splits)"
   ]
  },
  {
   "cell_type": "code",
   "execution_count": 30,
   "metadata": {},
   "outputs": [],
   "source": [
    "vectorstore = FAISS.from_documents(all_splits, hf)"
   ]
  },
  {
   "cell_type": "code",
   "execution_count": 34,
   "metadata": {},
   "outputs": [
    {
     "data": {
      "text/plain": [
       "[Document(page_content='company by revenue , has a track record  of driving access to innovative vaccines in China . By bringing together the \\nscale and expertise  of the two companies , the s trategic partnership will significantly extend the  availability  of \\nShingrix , supporting the rapid expan sion of  access to the vaccine  and future potential indications.  \\n \\nSet to start on 1 January 2024, Zhifei  will have exclusive rights to import and distribute Shingrix  in China – focusing  \\non promoting the vaccine  through  its extensive  service network , which cover s more than 30,000 vaccination points  \\nacross the country . In partnership, GSK  - as the license holder for the product  - will co -promote Shingrix  by raising  \\nawar eness of the importance of shingles vaccination amongst healthcare professionals  within community health \\ncentres  and hospital settings.  \\n \\nIn August  2023 , GSK announced positive data from the ZOSTER -076 phase IV trial  showing that Shingrix', metadata={'source': '../data/gsk/13b0bca0-0681-4f81-a71d-9654f2259c30.pdf', 'page': 0}),\n",
       " Document(page_content='Stock -exchange announcement  \\nFor media  and investors only  \\n  \\n \\nPress release  1 \\n \\nIssued : 9 October  2023, London  UK \\n \\nGSK and Zhifei announce exclusive strategic vaccine \\npartnership in China  \\n \\n• Partnership will  significantly extend availability of Shingrix  in China with  co-\\npromot ion to healthcare professionals and over 30,000 points of vaccination  \\n• Partnership also supports potential future  co-development and \\ncommercialis ation of  Arexvy , GSK’s respiratory syncytial virus ( RSV) vaccine \\nfor older adults  60 years and older , in China  \\n \\n \\nGSK plc (LSE/NYSE: GSK) announced today that it has reached an exclusive agreement  with Chongqing Zhifei \\nBiological Products, Ltd. (Zhifei) to co -promote GSK ’s shingles vaccine, Shingrix , in China  for an initial three -year \\nperiod , with the potential  to extend the partnership should  all parties  agree.  Zhifei , the largest Chinese vaccine', metadata={'source': '../data/gsk/13b0bca0-0681-4f81-a71d-9654f2259c30.pdf', 'page': 0}),\n",
       " Document(page_content=\"all parties agree.  The partnership supports and accelerates GSK’s commitment to double global Shingrix  sales, \\nreaching more than £4 billion by 2026.  \\n \\nUnder the terms of the strategic partnership , Zhifei  has granted GSK the right of first refusal  to be their exclusive \\npartner  for any co -development and commercialisation of an RSV vaccine for older adults in China, paving the way \\nfor the companies to potentially partner on Arexvy  upon approval in China.   \\n \\nAbout shingles  \\nShingles, also known as herpes zoster, is caused by a reactivation of the varicella -zoster virus (VZV) – the same \\nvirus that causes chickenpox.1 Globally, most people aged 50 and over have the dormant VZV in their nervous \\nsystem and are at risk of developi ng shingles .2.3 As people age, the immune system's strength  wanes, leading to \\na decreased response to infection and thus increasing the risk of developing shingles .1,2,3,4,5  People with  a\", metadata={'source': '../data/gsk/13b0bca0-0681-4f81-a71d-9654f2259c30.pdf', 'page': 0}),\n",
       " Document(page_content='by RSV in adults aged 60 years and older.  \\n \\nIn September 2023, Japan’s Ministry of Health, Labour and Welfare approved Arexvy  for the prevention of RSV for \\nadults aged 60  years and above.  The use of this vaccine should be in accordance with official recommendations . \\n \\nThe vaccine is not approved in China at this time.  \\n \\nAbout Zhifei  \\nChongqing Zhifei Biological Products Co., Ltd. is a fully integrated biotechnology company that speciali ses in \\nvaccine and biopharmaceutical research, development, production, sales, promotion, distribution, and \\nimport/export. Zhifei is committed to the mission of “preventing diseases and safeguar ding human health .” \\n \\nAbout GSK  \\nGSK is a global biopharma company with a purpose to unite science, technology, and talent to get ahead of \\ndisease together. Find out more at gsk.com .', metadata={'source': '../data/gsk/13b0bca0-0681-4f81-a71d-9654f2259c30.pdf', 'page': 1})]"
      ]
     },
     "execution_count": 34,
     "metadata": {},
     "output_type": "execute_result"
    }
   ],
   "source": [
    "vectorstore.similarity_search(\"strategic vaccine partnership in China\")"
   ]
  },
  {
   "cell_type": "code",
   "execution_count": 19,
   "metadata": {},
   "outputs": [],
   "source": [
    "loader = PyPDFLoader(\"/home/ubuntu/oulas/text_summarization_pipeline/data/gsk/42b46554-a9ee-4010-8137-e748deb65269.pdf\")\n",
    "pages = loader.load_and_split()"
   ]
  },
  {
   "cell_type": "code",
   "execution_count": 13,
   "metadata": {},
   "outputs": [
    {
     "data": {
      "text/plain": [
       "3"
      ]
     },
     "execution_count": 13,
     "metadata": {},
     "output_type": "execute_result"
    }
   ],
   "source": [
    "len(pages)"
   ]
  },
  {
   "cell_type": "code",
   "execution_count": 8,
   "metadata": {},
   "outputs": [
    {
     "data": {
      "text/plain": [
       "<langchain.document_loaders.parsers.pdf.PyPDFParser at 0x7f9d61c76580>"
      ]
     },
     "execution_count": 8,
     "metadata": {},
     "output_type": "execute_result"
    }
   ],
   "source": [
    "from langchain.embeddings import GPT4AllEmbeddings\n",
    "from langchain.vectorstores import Chroma\n",
    "\n",
    "vectorstore = Chroma.from_documents(documents=all_splits, embedding=GPT4AllEmbeddings())"
   ]
  },
  {
   "cell_type": "code",
   "execution_count": null,
   "metadata": {},
   "outputs": [],
   "source": []
  }
 ],
 "metadata": {
  "kernelspec": {
   "display_name": "pytorch",
   "language": "python",
   "name": "python3"
  },
  "language_info": {
   "codemirror_mode": {
    "name": "ipython",
    "version": 3
   },
   "file_extension": ".py",
   "mimetype": "text/x-python",
   "name": "python",
   "nbconvert_exporter": "python",
   "pygments_lexer": "ipython3",
   "version": "3.9.18"
  }
 },
 "nbformat": 4,
 "nbformat_minor": 2
}
