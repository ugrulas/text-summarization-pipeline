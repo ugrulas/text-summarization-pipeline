{
 "cells": [
  {
   "cell_type": "code",
   "execution_count": 1,
   "metadata": {},
   "outputs": [],
   "source": [
    "import os\n",
    "import pprint\n",
    "import datasets\n",
    "from langchain.vectorstores import FAISS\n",
    "from langchain.docstore.document import Document\n",
    "from langchain.text_splitter import RecursiveCharacterTextSplitter\n",
    "from langchain.embeddings import HuggingFaceInstructEmbeddings,HuggingFaceEmbeddings\n"
   ]
  },
  {
   "cell_type": "markdown",
   "metadata": {},
   "source": [
    "# Load dataset"
   ]
  },
  {
   "cell_type": "code",
   "execution_count": 3,
   "metadata": {},
   "outputs": [],
   "source": [
    "language = \"english\"\n",
    "data = datasets.load_dataset(\"wiki_lingua\", name=language, split=\"train[:4000]\")"
   ]
  },
  {
   "cell_type": "code",
   "execution_count": 4,
   "metadata": {},
   "outputs": [
    {
     "data": {
      "text/plain": [
       "{'section_name': ['Finding Other Transportation',\n",
       "  'Designating a Driver',\n",
       "  'Staying Safe'],\n",
       " 'document': ['make sure that the area is a safe place, especially if you plan on walking home at night.  It’s always a good idea to practice the buddy system.  Have a friend meet up and walk with you. Research the bus, train, or streetcar routes available in your area to find safe and affordable travel to your destination.  Make sure you check the schedule for your outgoing and return travel.  Some public transportation will cease to run late at night.  Be sure if you take public transportation to the venue that you will also be able to get home late at night. Check the routes.  Even if some public transit is still running late at night, the routing may change.  Some may run express past many of the stops, or not travel all the way to the ends.  Be sure that your stop will still be available when you need it for your return trip. If you are taking public transit in a vulnerable state after drinking, it is always a good idea to travel in groups.  Having friends available is a good way to stay safe and make sure that you reach your destination. This is more expensive option than a taxi or ride share service, but could be a fun and fancy way to stay safe and ensure that you will have a ride home. Plan this service in advance with a scheduled time to pick you up from your home and the venue.  You want to be sure that the service will still be available when you need to get home. This may be easy in a large city, but taxis may be less frequent in smaller towns.  This is especially true late at night, so this is a less reliable option than scheduling a ride in advance.  Have a friend accompany you and help you flag a cab to make sure you are able to get one. Set up a plan to call a friend when you get home to make sure that you made it safely to your destination. If there are no taxis readily available call a local service to send a car to pick you up. You can share a ride with your friends, or other people using the app at the same moment.  If you are in a vulnerable state it is best to share the ride with your friends to make sure you get home safe. You can request the car to yourself rather than sharing rides with strangers. If you travel home on your own or are the last of your group to be dropped off, make plans to call a friend when you get home so they know you made it safely to your destination. There may be a designated driver service in your area which can chauffeur your group.  Make reservations with them in advance and keep their contact information handy while you are drinking.',\n",
       "  \"Designating a driver is a very popular tactic to avoid drinking and driving.  It is important to plan in advance, because your brain function will slow down and your decision making skills will be impaired once you start drinking. Decide before you begin drinking that you will not drive.  Figure out who will be getting you home before you leave. Make sure this person is responsible and keep them in your sight while you are drinking.  Have their contact information handy in case you can’t find them when you are ready to leave.  Choose a friend who doesn’t drink alcohol.  You likely have someone in your friend group who doesn’t drink.  This person is the most likely to remain sober. Decide on one person who will remain sober.  You can take turns within your friend group, alternating who will be the designated driver on each occasion.  Be sure that the designated driver actually remains sober.  The person who has drank the least is still not sober. If you don’t have your car with you, you can guarantee that you won’t make the choice to drive it home. If you are drinking at your home.  Give your keys to a responsible friend to ensure that you don't choose to drive somewhere after you have been drinking. It may be tempting to stay longer or leave with someone else.  Stick to the plan you made in advance and only leave with your sober, designated driver.  Keep the phone number of your driver handy in case you can't find them when you are ready to leave. If your designated driver drinks alcohol, find alternate transportation to get home.\",\n",
       "  'If you have been drinking at all you are at least on the spectrum of drunkenness.  You could be showing signs of impairment and slower brain function including lack of motor skills and slower reaction time, leading to the inability to operate a motor vehicle.  Some of these signs could be:  Poor balance or stumbling.  Difficulty speaking clearly and slurred words.  Abnormal behavior leading to you doing things you wouldn’t normally do if you were sober. As soon as you notice that you are showing signs of impairment, give your keys to a friend, the host or the bartender to ensure that you won’t drive until you are sober.  Make sure to only give them your car key.  Hold onto your house keys. If your friend, the host or the bartender are advising you not to drive, you are likely too drunk.  Listen to their advice and acknowledge that they are trying to help you. Bystander intervention is common when it comes to drinking and driving.  Many people will be willing to step in, take your keys and help you get home safely.  If no one if offering to help, you may need to ask.  Take a ride from a sober friend.  It is best to get in a car with someone you trust when you are in this vulnerable state. Allow the host or bartender to call a cab or car service to take you home. If you are having a difficult time finding a safe way to get home, find a place to stay which does not involve you driving.  Ask the host of the party if there is a place you can sleep.  Give them your keys and ask that they keep them in a safe place until the morning. Stay with a friend if they live nearby and are on their way home. Find a hotel within walking distance.  Call them to book a room, or have a friend help you secure one.  Ask the friend if they will walk you to the hotel and make sure you get checked in safely. There are people in your life who care about you and want to be sure that you are safe.  It may seem scary or embarrassing to call your parents or your siblings if you are too drunk to drive, but they will be glad you did.  Your safety is the most important. You may need your phone to call someone for a ride or get help from a friend.  Be sure to charge your phone before you leave the house.  It is also a good idea to bring a charger with you in case your battery dies before the end of the night or you end up staying where you are and need to get home the next morning. You may also want to invest in a portable battery charger for your phone should there not be a power outlet available.  Make sure it is fully charged before you leave your house.  Keep it handy in your pocket or your bag throughout the night.'],\n",
       " 'summary': ['Walk to the venue where you will be drinking if it is close enough. Take public transit. Show up in style by hiring a limo or black car service. Flag a taxi cab for a convenient option to get where you’re going. Request a rideshare service like Uber or Lyft using an app on your phone. Reserve a designated driver service.',\n",
       "  'Plan in advance. Assign a designated driver. Leave your car at home. Leave the venue with your designated driver.',\n",
       "  'Pay attention to your body. Give up your keys. Listen to other people. Accept help. Stay where you are. Have an emergency back-up plan. Make sure that your phone is charged.']}"
      ]
     },
     "execution_count": 4,
     "metadata": {},
     "output_type": "execute_result"
    }
   ],
   "source": [
    "data[\"article\"][0]"
   ]
  },
  {
   "cell_type": "code",
   "execution_count": 5,
   "metadata": {},
   "outputs": [],
   "source": [
    "def flatten(example):\n",
    "    return {\n",
    "        \"document\": example[\"article\"][\"document\"],\n",
    "        \"summary\": example[\"article\"][\"summary\"],\n",
    "    }\n",
    "\n",
    "\n",
    "def list2samples(example):\n",
    "    documents = []\n",
    "    summaries = []\n",
    "    for sample in zip(example[\"document\"], example[\"summary\"]):\n",
    "        if len(sample[0]) > 0:\n",
    "            documents += sample[0]\n",
    "            summaries += sample[1]\n",
    "    return {\"document\": documents, \"summary\": summaries}\n",
    "\n",
    "\n",
    "data = data.map(flatten, remove_columns=[\"article\", \"url\"])\n",
    "data = data.map(list2samples, batched=True)"
   ]
  },
  {
   "cell_type": "code",
   "execution_count": 6,
   "metadata": {},
   "outputs": [],
   "source": [
    "train_split, validation_split = data.train_test_split(test_size=0.1).values()"
   ]
  },
  {
   "cell_type": "code",
   "execution_count": 7,
   "metadata": {},
   "outputs": [
    {
     "data": {
      "text/plain": [
       "(8755, 973)"
      ]
     },
     "execution_count": 7,
     "metadata": {},
     "output_type": "execute_result"
    }
   ],
   "source": [
    "len(train_split), len(validation_split)"
   ]
  },
  {
   "cell_type": "markdown",
   "metadata": {},
   "source": [
    "# Create VectorStore"
   ]
  },
  {
   "cell_type": "code",
   "execution_count": 9,
   "metadata": {},
   "outputs": [],
   "source": [
    "model_name = 'sentence-transformers/sentence-t5-base'\n",
    "model_kwargs = {'device': 'cuda'}\n",
    "\n",
    "hf = HuggingFaceEmbeddings(\n",
    "    model_name=model_name,\n",
    "    model_kwargs=model_kwargs,\n",
    "\n",
    ")"
   ]
  },
  {
   "cell_type": "code",
   "execution_count": 10,
   "metadata": {},
   "outputs": [],
   "source": [
    "documents = []\n",
    "for index,doc in enumerate(train_split):\n",
    "    documents.append(Document(page_content=doc[\"document\"], metadata={\"source\": \"local\",\"id\":index} ))"
   ]
  },
  {
   "cell_type": "code",
   "execution_count": 11,
   "metadata": {},
   "outputs": [],
   "source": [
    "\n",
    "text_splitter = RecursiveCharacterTextSplitter(chunk_size=512, chunk_overlap=20)"
   ]
  },
  {
   "cell_type": "code",
   "execution_count": 12,
   "metadata": {},
   "outputs": [
    {
     "data": {
      "text/plain": [
       "8755"
      ]
     },
     "execution_count": 12,
     "metadata": {},
     "output_type": "execute_result"
    }
   ],
   "source": [
    "len(documents)"
   ]
  },
  {
   "cell_type": "code",
   "execution_count": 13,
   "metadata": {},
   "outputs": [],
   "source": [
    "splitted_documents = text_splitter.split_documents(documents[:])"
   ]
  },
  {
   "cell_type": "code",
   "execution_count": 14,
   "metadata": {},
   "outputs": [
    {
     "data": {
      "text/plain": [
       "41624"
      ]
     },
     "execution_count": 14,
     "metadata": {},
     "output_type": "execute_result"
    }
   ],
   "source": [
    "len(splitted_documents)"
   ]
  },
  {
   "cell_type": "code",
   "execution_count": 15,
   "metadata": {},
   "outputs": [],
   "source": [
    "vectorstore = FAISS.from_documents(splitted_documents, hf)"
   ]
  },
  {
   "cell_type": "code",
   "execution_count": 16,
   "metadata": {},
   "outputs": [],
   "source": [
    "vectorstore.save_local(\"faiss_index\")"
   ]
  },
  {
   "cell_type": "code",
   "execution_count": 17,
   "metadata": {},
   "outputs": [],
   "source": [
    "vectorstore = FAISS.load_local(\"faiss_index\",hf)"
   ]
  },
  {
   "cell_type": "code",
   "execution_count": 18,
   "metadata": {},
   "outputs": [],
   "source": [
    "similar_docs = vectorstore.similarity_search(\"The quick brown fox jumps over the lazy dog\", k=5)"
   ]
  },
  {
   "cell_type": "code",
   "execution_count": 19,
   "metadata": {},
   "outputs": [
    {
     "data": {
      "text/plain": [
       "[Document(page_content='a fox. Foxes eat small animals in the wild so do not keep a fox around smaller animals especially birds or rodents. Never leave a fox alone with other animals. Foxes are omnivores, so they can eat a large variety of foods. Give them a high quality medium sized dog food and consult a vet about other food options.  Fox diets can include meats and vegetables to supplement basic dog food. Check with your vet. Leave out some dry dog food for the fox during the day. Try adding a can of wet cat food mixed with', metadata={'source': 'local', 'id': 3871}),\n",
       " Document(page_content='in quickly, staying alert for potential dog movement.', metadata={'source': 'local', 'id': 7}),\n",
       " Document(page_content=\"kill other animals even if they aren't hungry, including neighborhood pets. Give your fox a collar and tags so if it does get away it will not be mistaken for a wild fox. Foxes are very high energy animals, so they need a lot of exercise. About an hour or two a day will wear your pet down. Always use a harness for walks. The collar is for identification, but a leash should be attached to a harness because attaching it to a collar can choke the fox. Foxes, like dogs and cats, can have tooth decay, so\", metadata={'source': 'local', 'id': 3871}),\n",
       " Document(page_content=\"can be tough on the fox's paws. Make sure to cover a concrete floor in dirt or mulch.  Another option is burying chain-link fencing under soil or mulch. This will keep the fox enclosed even if they dig down. The fenced enclosure needs to be covered to keep the fox from climbing out. A larger dog house will work well as a place for your fox to sleep and hang out. Fill it with blankets, hay or straw, or something else warm for it to sleep on. Foxes are very active and love to have toys to play with. Try out\", metadata={'source': 'local', 'id': 2951}),\n",
       " Document(page_content='Outdoor foxes must be fenced in, or else they will run off to hunt or explore. Choose an area at least 100 square feet. Purchase a large wire fence to use as a fox enclosure.  Try to choose a sheltered area protected from wind and direct sun. Choose a spot with sturdy ground rather than wet or marshy areas. Foxes will dig down to try to get out of the fence so it must extend below the surface.  A concrete floor will work even better to keep the fox from digging under the fence, but it can be tough on the', metadata={'source': 'local', 'id': 2951})]"
      ]
     },
     "execution_count": 19,
     "metadata": {},
     "output_type": "execute_result"
    }
   ],
   "source": [
    "similar_docs"
   ]
  },
  {
   "cell_type": "code",
   "execution_count": 20,
   "metadata": {},
   "outputs": [
    {
     "data": {
      "text/plain": [
       "[(Document(page_content='a fox. Foxes eat small animals in the wild so do not keep a fox around smaller animals especially birds or rodents. Never leave a fox alone with other animals. Foxes are omnivores, so they can eat a large variety of foods. Give them a high quality medium sized dog food and consult a vet about other food options.  Fox diets can include meats and vegetables to supplement basic dog food. Check with your vet. Leave out some dry dog food for the fox during the day. Try adding a can of wet cat food mixed with', metadata={'source': 'local', 'id': 3871}),\n",
       "  0.38002527),\n",
       " (Document(page_content='in quickly, staying alert for potential dog movement.', metadata={'source': 'local', 'id': 7}),\n",
       "  0.39186782),\n",
       " (Document(page_content=\"kill other animals even if they aren't hungry, including neighborhood pets. Give your fox a collar and tags so if it does get away it will not be mistaken for a wild fox. Foxes are very high energy animals, so they need a lot of exercise. About an hour or two a day will wear your pet down. Always use a harness for walks. The collar is for identification, but a leash should be attached to a harness because attaching it to a collar can choke the fox. Foxes, like dogs and cats, can have tooth decay, so\", metadata={'source': 'local', 'id': 3871}),\n",
       "  0.39578223),\n",
       " (Document(page_content=\"can be tough on the fox's paws. Make sure to cover a concrete floor in dirt or mulch.  Another option is burying chain-link fencing under soil or mulch. This will keep the fox enclosed even if they dig down. The fenced enclosure needs to be covered to keep the fox from climbing out. A larger dog house will work well as a place for your fox to sleep and hang out. Fill it with blankets, hay or straw, or something else warm for it to sleep on. Foxes are very active and love to have toys to play with. Try out\", metadata={'source': 'local', 'id': 2951}),\n",
       "  0.39676774),\n",
       " (Document(page_content='Outdoor foxes must be fenced in, or else they will run off to hunt or explore. Choose an area at least 100 square feet. Purchase a large wire fence to use as a fox enclosure.  Try to choose a sheltered area protected from wind and direct sun. Choose a spot with sturdy ground rather than wet or marshy areas. Foxes will dig down to try to get out of the fence so it must extend below the surface.  A concrete floor will work even better to keep the fox from digging under the fence, but it can be tough on the', metadata={'source': 'local', 'id': 2951}),\n",
       "  0.40615642)]"
      ]
     },
     "execution_count": 20,
     "metadata": {},
     "output_type": "execute_result"
    }
   ],
   "source": [
    "vectorstore.similarity_search_with_score(\"The quick brown fox jumps over the lazy dog\", k=5)"
   ]
  },
  {
   "cell_type": "code",
   "execution_count": 21,
   "metadata": {},
   "outputs": [],
   "source": [
    "val_index = 0\n",
    "validation_sample = validation_split[0]\n",
    "validation_document = Document(page_content=validation_sample[\"document\"], metadata={\"source\": \"local\",\"id\":val_index})\n",
    "\n",
    "splitted_validation_document = text_splitter.split_documents([validation_document])"
   ]
  },
  {
   "cell_type": "code",
   "execution_count": 22,
   "metadata": {},
   "outputs": [
    {
     "data": {
      "text/plain": [
       "[Document(page_content='This is very important, as it will protect your hair from heat damage. Heat-damaged hair can often look dry, frizzy, or ratted. To prevent this from happening, apply a heat protectant spray to your hair, focusing on the ends. You should have the bottom third or bottom fourth of your hair loose. The thicker you hair is, the more sections you will need to work with. Take a small section of hair, and place a round brush under it, as close to your roots as you can. Turn on your hairdryer, and place it right', metadata={'source': 'local', 'id': 0}),\n",
       " Document(page_content='and place it right over the brush. Keep the hairdryer directly over the brush at all times. Do not pull the brush completely past the ends of your hair. If your hair is not smooth, pull the brush completely past your hair and start again. When your hair is smooth, rotate the brush back towards your scalp, rolling the hair around it. Leave the brush in your hair as it cools. Once it is cool to the touch, carefully pull the brush out of your hair. At this point, you can move onto the next section.  If your', metadata={'source': 'local', 'id': 0}),\n",
       " Document(page_content=\"section.  If your hair is very fine, consider giving it a quick spray with a lightweight hairspray before moving on. Save power by turning your hairdryer off while you wait for your hair to cool. Keep working in small sections and thin layers until you have straightened all of your hair. If you are happy with this look, you are done and can go about your day. If your hair isn't straight enough for you, pass a hair straightener through the ends and the upper layers. Pull the hair straightener through your\", metadata={'source': 'local', 'id': 0}),\n",
       " Document(page_content='through your hair using an upwards motion rather than straight down. This will help create extra volume. Here are some more pointers on straightening your hair:  For even more volume: roll your hair up in a round brush or thermal styling brush, about 1½ to 2 inches (3.81 to 5.08 centimeters) away from your scalp. Keep the brush in your hair until your hair cools before pulling it out. Pass your hair straightener through your hair, right under the brush, while unrolling it to make your hair even straighter.', metadata={'source': 'local', 'id': 0}),\n",
       " Document(page_content='even straighter. Run a brush or your fingers through your hair, starting at your forehead, and moving straight back. This will help create extra volume. After that, you can part or style your hair however you like.', metadata={'source': 'local', 'id': 0})]"
      ]
     },
     "execution_count": 22,
     "metadata": {},
     "output_type": "execute_result"
    }
   ],
   "source": [
    "splitted_validation_document[:5]"
   ]
  },
  {
   "cell_type": "code",
   "execution_count": 23,
   "metadata": {},
   "outputs": [],
   "source": [
    "similar_documents = []\n",
    "for doc in splitted_validation_document:\n",
    "    similar_documents.append(vectorstore.similarity_search_with_score(doc.page_content, k=5))\n",
    "similar_documents = [(item[1],item[0]) for sublist in similar_documents for item in sublist]"
   ]
  },
  {
   "cell_type": "code",
   "execution_count": 24,
   "metadata": {},
   "outputs": [
    {
     "data": {
      "text/plain": [
       "[(0.08791785,\n",
       "  Document(page_content=\"You can apply more heat protectant serum as you go if your hair looks like it's getting dried out.  Don't go over the same shaft of hair too many times. This can make your hair start to get brittle. Doing a little at a time gives you control over how much heat you're applying to your hair, reducing the risk of damage. Take your time and go over each strand of hair until your entire mane is straight, sleek and glossy.\", metadata={'source': 'local', 'id': 1116})),\n",
       " (0.091248035,\n",
       "  Document(page_content='your hair. Before blow drying your hair you should apply a heat protecting spray. Hold the spray bottle about a foot from your head and spritz your wet hair. Make sure to cover the entire surface area.  Heat protection spray can be found in the haircare aisle of most general and beauty stores. Select a heat protection spray that can be used on wet and dry hair.', metadata={'source': 'local', 'id': 7865})),\n",
       " (0.10462737,\n",
       "  Document(page_content=\"don't want dull, frizzy hair. In order to do that, find some products that produce shine such as Garnier Fructis and TRESemmé. It is best to air dry your hair instead of blow drying it to relieve it from all of the heat. It creates split ends and causes a lot of heat damage and the consequences are not worth it. Some appliances that may come in handy are: flat irons (for days where you want pin straight hair), curling wands (where you want lose waves and no creases in your hair from the clamps of curling\", metadata={'source': 'local', 'id': 8398})),\n",
       " (0.1082295,\n",
       "  Document(page_content=\"This is very important. It won't do much to give your hair extra volume, but it will protect your hair from heat damage, and prevent it from turning brittle and dry. Be sure to focus the heat protectant on the ends of your hair, which tend to get damaged the easiest. Plan on straightening your hair in at least three layers. If you have very thick hair, or just a lot of it, you will have to work in thinner sections. Take a small, 1 to 2-inch (2.54 to 5.08-centimeter) section of hair, and clamp your iron over\", metadata={'source': 'local', 'id': 7345})),\n",
       " (0.124843106,\n",
       "  Document(page_content='treating your hair gently, your beautiful natural texture will finally get the chance to shine through. When you just have to style your hair with a dryer (which should be done only on special occasions), use the warm or cool setting on your dryer, and keep it several inches from your head. Be sure to use a heat protectant product, too, to minimize damage to your strands. Hair brushes rip through tangles, leaving a lot of damage in their wake. Since dry hair is very breakable, this can leave your hair', metadata={'source': 'local', 'id': 7793})),\n",
       " (0.13203138,\n",
       "  Document(page_content=\"Take a clean cloth and wipe it over the hairbrush to remove the water on the surface of the brush. Then turn the hairbrush so the bristles point down and place it on a towel. Don't use a hot hair dryer to dry the brush. This could damage the base of the brush and its bristles. Depending on the style and material of the hairbrush, you may need to let the brush dry overnight. Wait until the brush is completely dry before you use it to brush your hair. Avoid using the brush when it's still wet, especially if\", metadata={'source': 'local', 'id': 8099})),\n",
       " (0.13903068,\n",
       "  Document(page_content='facing down on a clean and dry towel and allow to dry overnight. If you need to use your brush right away, use a hair dryer set to its lowest setting to speed the drying process. Go back and forth over the brush a few times to blow out any remaining water drops and to ensure that the hairbrush is now damp rather than soaking wet.', metadata={'source': 'local', 'id': 36})),\n",
       " (0.15353233,\n",
       "  Document(page_content='treating your hair gently, your beautiful natural texture will finally get the chance to shine through. When you just have to style your hair with a dryer (which should be done only on special occasions), use the warm or cool setting on your dryer, and keep it several inches from your head. Be sure to use a heat protectant product, too, to minimize damage to your strands. Hair brushes rip through tangles, leaving a lot of damage in their wake. Since dry hair is very breakable, this can leave your hair', metadata={'source': 'local', 'id': 7793})),\n",
       " (0.15961288,\n",
       "  Document(page_content='Avoid using a round brush to dry your hair if you intend to straighten your hair. Trade your round brush for a paddle brush. This will guide the hair into a straighter position. Set the straight hair with the cool setting on your hair drying. Heat is helpful when you are styling hair. The cool setting on the hair dryer helps to keep that style for hours. Before you apply more heat to your hair with the hair straightener, spritz the strands with the heat protection spray. Make sure that you select a spray', metadata={'source': 'local', 'id': 1330})),\n",
       " (0.16093208,\n",
       "  Document(page_content=\"Let it continue air drying for about 15 minutes before pressing forward. If you need to set and dry your hair in a hurry, the next best option is to sit under a bonnet dryer and let your hair dry under the warm, steady heat for 30 to 60 minutes.  Keep in mind that you will likely need about an hour for your hair to dry. Long or thick hair may take even longer to dry. It's normal for your roots to stay damp, as the hair is coiled around them. Do not blow dry knots. This will cause them to become far too\", metadata={'source': 'local', 'id': 5007}))]"
      ]
     },
     "execution_count": 24,
     "metadata": {},
     "output_type": "execute_result"
    }
   ],
   "source": [
    "similar_documents[:10]\n"
   ]
  },
  {
   "cell_type": "code",
   "execution_count": 25,
   "metadata": {},
   "outputs": [],
   "source": [
    "similar_documents.sort(key=lambda tup: tup[0],reverse=False)"
   ]
  },
  {
   "cell_type": "code",
   "execution_count": 26,
   "metadata": {},
   "outputs": [],
   "source": [
    "top_k = 2\n",
    "top_k_documents = [item[1].metadata['id'] for item in similar_documents[:top_k]]\n"
   ]
  },
  {
   "cell_type": "code",
   "execution_count": 27,
   "metadata": {},
   "outputs": [
    {
     "data": {
      "text/plain": [
       "[1116, 7865]"
      ]
     },
     "execution_count": 27,
     "metadata": {},
     "output_type": "execute_result"
    }
   ],
   "source": [
    "top_k_documents"
   ]
  }
 ],
 "metadata": {
  "kernelspec": {
   "display_name": "pytorch",
   "language": "python",
   "name": "python3"
  },
  "language_info": {
   "codemirror_mode": {
    "name": "ipython",
    "version": 3
   },
   "file_extension": ".py",
   "mimetype": "text/x-python",
   "name": "python",
   "nbconvert_exporter": "python",
   "pygments_lexer": "ipython3",
   "version": "3.9.18"
  }
 },
 "nbformat": 4,
 "nbformat_minor": 2
}
