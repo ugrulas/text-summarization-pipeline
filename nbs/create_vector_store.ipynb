{
 "cells": [
  {
   "cell_type": "code",
   "execution_count": 1,
   "metadata": {},
   "outputs": [],
   "source": [
    "import os\n",
    "import pprint\n",
    "import datasets\n",
    "from langchain.vectorstores import FAISS\n",
    "from langchain.docstore.document import Document\n",
    "from langchain.text_splitter import RecursiveCharacterTextSplitter\n",
    "from langchain.embeddings import HuggingFaceInstructEmbeddings,HuggingFaceEmbeddings"
   ]
  },
  {
   "cell_type": "markdown",
   "metadata": {},
   "source": [
    "# Load dataset"
   ]
  },
  {
   "cell_type": "code",
   "execution_count": 2,
   "metadata": {},
   "outputs": [],
   "source": [
    "language = \"english\"\n",
    "data = datasets.load_dataset(\"wiki_lingua\", name=language, split=\"train[:8000]\")"
   ]
  },
  {
   "cell_type": "code",
   "execution_count": 3,
   "metadata": {},
   "outputs": [
    {
     "data": {
      "text/plain": [
       "8000"
      ]
     },
     "execution_count": 3,
     "metadata": {},
     "output_type": "execute_result"
    }
   ],
   "source": [
    "len(data)"
   ]
  },
  {
   "cell_type": "code",
   "execution_count": 4,
   "metadata": {},
   "outputs": [
    {
     "data": {
      "text/plain": [
       "{'section_name': ['Finding Other Transportation',\n",
       "  'Designating a Driver',\n",
       "  'Staying Safe'],\n",
       " 'document': ['make sure that the area is a safe place, especially if you plan on walking home at night.  It’s always a good idea to practice the buddy system.  Have a friend meet up and walk with you. Research the bus, train, or streetcar routes available in your area to find safe and affordable travel to your destination.  Make sure you check the schedule for your outgoing and return travel.  Some public transportation will cease to run late at night.  Be sure if you take public transportation to the venue that you will also be able to get home late at night. Check the routes.  Even if some public transit is still running late at night, the routing may change.  Some may run express past many of the stops, or not travel all the way to the ends.  Be sure that your stop will still be available when you need it for your return trip. If you are taking public transit in a vulnerable state after drinking, it is always a good idea to travel in groups.  Having friends available is a good way to stay safe and make sure that you reach your destination. This is more expensive option than a taxi or ride share service, but could be a fun and fancy way to stay safe and ensure that you will have a ride home. Plan this service in advance with a scheduled time to pick you up from your home and the venue.  You want to be sure that the service will still be available when you need to get home. This may be easy in a large city, but taxis may be less frequent in smaller towns.  This is especially true late at night, so this is a less reliable option than scheduling a ride in advance.  Have a friend accompany you and help you flag a cab to make sure you are able to get one. Set up a plan to call a friend when you get home to make sure that you made it safely to your destination. If there are no taxis readily available call a local service to send a car to pick you up. You can share a ride with your friends, or other people using the app at the same moment.  If you are in a vulnerable state it is best to share the ride with your friends to make sure you get home safe. You can request the car to yourself rather than sharing rides with strangers. If you travel home on your own or are the last of your group to be dropped off, make plans to call a friend when you get home so they know you made it safely to your destination. There may be a designated driver service in your area which can chauffeur your group.  Make reservations with them in advance and keep their contact information handy while you are drinking.',\n",
       "  \"Designating a driver is a very popular tactic to avoid drinking and driving.  It is important to plan in advance, because your brain function will slow down and your decision making skills will be impaired once you start drinking. Decide before you begin drinking that you will not drive.  Figure out who will be getting you home before you leave. Make sure this person is responsible and keep them in your sight while you are drinking.  Have their contact information handy in case you can’t find them when you are ready to leave.  Choose a friend who doesn’t drink alcohol.  You likely have someone in your friend group who doesn’t drink.  This person is the most likely to remain sober. Decide on one person who will remain sober.  You can take turns within your friend group, alternating who will be the designated driver on each occasion.  Be sure that the designated driver actually remains sober.  The person who has drank the least is still not sober. If you don’t have your car with you, you can guarantee that you won’t make the choice to drive it home. If you are drinking at your home.  Give your keys to a responsible friend to ensure that you don't choose to drive somewhere after you have been drinking. It may be tempting to stay longer or leave with someone else.  Stick to the plan you made in advance and only leave with your sober, designated driver.  Keep the phone number of your driver handy in case you can't find them when you are ready to leave. If your designated driver drinks alcohol, find alternate transportation to get home.\",\n",
       "  'If you have been drinking at all you are at least on the spectrum of drunkenness.  You could be showing signs of impairment and slower brain function including lack of motor skills and slower reaction time, leading to the inability to operate a motor vehicle.  Some of these signs could be:  Poor balance or stumbling.  Difficulty speaking clearly and slurred words.  Abnormal behavior leading to you doing things you wouldn’t normally do if you were sober. As soon as you notice that you are showing signs of impairment, give your keys to a friend, the host or the bartender to ensure that you won’t drive until you are sober.  Make sure to only give them your car key.  Hold onto your house keys. If your friend, the host or the bartender are advising you not to drive, you are likely too drunk.  Listen to their advice and acknowledge that they are trying to help you. Bystander intervention is common when it comes to drinking and driving.  Many people will be willing to step in, take your keys and help you get home safely.  If no one if offering to help, you may need to ask.  Take a ride from a sober friend.  It is best to get in a car with someone you trust when you are in this vulnerable state. Allow the host or bartender to call a cab or car service to take you home. If you are having a difficult time finding a safe way to get home, find a place to stay which does not involve you driving.  Ask the host of the party if there is a place you can sleep.  Give them your keys and ask that they keep them in a safe place until the morning. Stay with a friend if they live nearby and are on their way home. Find a hotel within walking distance.  Call them to book a room, or have a friend help you secure one.  Ask the friend if they will walk you to the hotel and make sure you get checked in safely. There are people in your life who care about you and want to be sure that you are safe.  It may seem scary or embarrassing to call your parents or your siblings if you are too drunk to drive, but they will be glad you did.  Your safety is the most important. You may need your phone to call someone for a ride or get help from a friend.  Be sure to charge your phone before you leave the house.  It is also a good idea to bring a charger with you in case your battery dies before the end of the night or you end up staying where you are and need to get home the next morning. You may also want to invest in a portable battery charger for your phone should there not be a power outlet available.  Make sure it is fully charged before you leave your house.  Keep it handy in your pocket or your bag throughout the night.'],\n",
       " 'summary': ['Walk to the venue where you will be drinking if it is close enough. Take public transit. Show up in style by hiring a limo or black car service. Flag a taxi cab for a convenient option to get where you’re going. Request a rideshare service like Uber or Lyft using an app on your phone. Reserve a designated driver service.',\n",
       "  'Plan in advance. Assign a designated driver. Leave your car at home. Leave the venue with your designated driver.',\n",
       "  'Pay attention to your body. Give up your keys. Listen to other people. Accept help. Stay where you are. Have an emergency back-up plan. Make sure that your phone is charged.']}"
      ]
     },
     "execution_count": 4,
     "metadata": {},
     "output_type": "execute_result"
    }
   ],
   "source": [
    "data[\"article\"][0]"
   ]
  },
  {
   "cell_type": "code",
   "execution_count": 5,
   "metadata": {},
   "outputs": [
    {
     "data": {
      "application/vnd.jupyter.widget-view+json": {
       "model_id": "90ce7b4011bb4b4fb68d480f5b89a2a6",
       "version_major": 2,
       "version_minor": 0
      },
      "text/plain": [
       "Map:   0%|          | 0/8000 [00:00<?, ? examples/s]"
      ]
     },
     "metadata": {},
     "output_type": "display_data"
    },
    {
     "data": {
      "application/vnd.jupyter.widget-view+json": {
       "model_id": "647386ae98d64d708bbdda934d792182",
       "version_major": 2,
       "version_minor": 0
      },
      "text/plain": [
       "Map:   0%|          | 0/8000 [00:00<?, ? examples/s]"
      ]
     },
     "metadata": {},
     "output_type": "display_data"
    }
   ],
   "source": [
    "def flatten(example):\n",
    "    return {\n",
    "        \"document\": example[\"article\"][\"document\"],\n",
    "        \"summary\": example[\"article\"][\"summary\"],\n",
    "    }\n",
    "\n",
    "def list2samples(example):\n",
    "    documents = []\n",
    "    summaries = []\n",
    "    for sample in zip(example[\"document\"], example[\"summary\"]):\n",
    "        if len(sample[0]) > 0:\n",
    "            documents += sample[0]\n",
    "            summaries += sample[1]\n",
    "    return {\"document\": documents, \"summary\": summaries}\n",
    "\n",
    "\n",
    "data = data.map(flatten, remove_columns=[\"article\", \"url\"])\n",
    "data = data.map(list2samples, batched=True)"
   ]
  },
  {
   "cell_type": "code",
   "execution_count": 6,
   "metadata": {},
   "outputs": [],
   "source": [
    "train_split, validation_split = data.train_test_split(test_size=0.1).values()"
   ]
  },
  {
   "cell_type": "code",
   "execution_count": 7,
   "metadata": {},
   "outputs": [
    {
     "data": {
      "text/plain": [
       "(17508, 1946)"
      ]
     },
     "execution_count": 7,
     "metadata": {},
     "output_type": "execute_result"
    }
   ],
   "source": [
    "len(train_split), len(validation_split)"
   ]
  },
  {
   "cell_type": "code",
   "execution_count": 8,
   "metadata": {},
   "outputs": [
    {
     "data": {
      "application/vnd.jupyter.widget-view+json": {
       "model_id": "f0813da512d048e6a681ce0d7ce61b93",
       "version_major": 2,
       "version_minor": 0
      },
      "text/plain": [
       "Saving the dataset (0/1 shards):   0%|          | 0/17508 [00:00<?, ? examples/s]"
      ]
     },
     "metadata": {},
     "output_type": "display_data"
    },
    {
     "data": {
      "application/vnd.jupyter.widget-view+json": {
       "model_id": "4d3d5c4387ee4154b9a94ca1a714ae3c",
       "version_major": 2,
       "version_minor": 0
      },
      "text/plain": [
       "Saving the dataset (0/1 shards):   0%|          | 0/1946 [00:00<?, ? examples/s]"
      ]
     },
     "metadata": {},
     "output_type": "display_data"
    }
   ],
   "source": [
    "#save the data \n",
    "os.makedirs(\"../data\", exist_ok=True)\n",
    "train_split.save_to_disk(\"../data/train_split\")\n",
    "validation_split.save_to_disk(\"../data/validation_split\")"
   ]
  },
  {
   "cell_type": "markdown",
   "metadata": {},
   "source": [
    "# Create VectorStore"
   ]
  },
  {
   "cell_type": "code",
   "execution_count": 9,
   "metadata": {},
   "outputs": [],
   "source": [
    "model_name = 'sentence-transformers/sentence-t5-base'\n",
    "model_kwargs = {'device': 'cuda'}\n",
    "\n",
    "hf = HuggingFaceEmbeddings(\n",
    "    model_name=model_name,\n",
    "    model_kwargs=model_kwargs,\n",
    "\n",
    ")"
   ]
  },
  {
   "cell_type": "code",
   "execution_count": 12,
   "metadata": {},
   "outputs": [],
   "source": [
    "documents = []\n",
    "for index,doc in enumerate(train_split):\n",
    "    documents.append(Document(page_content=doc[\"document\"], metadata={\"source\": \"local\",\"id\":index} ))"
   ]
  },
  {
   "cell_type": "code",
   "execution_count": 13,
   "metadata": {},
   "outputs": [],
   "source": [
    "text_splitter = RecursiveCharacterTextSplitter(chunk_size=512, chunk_overlap=20)"
   ]
  },
  {
   "cell_type": "code",
   "execution_count": 15,
   "metadata": {},
   "outputs": [],
   "source": [
    "splitted_documents = text_splitter.split_documents(documents[:])"
   ]
  },
  {
   "cell_type": "code",
   "execution_count": 14,
   "metadata": {},
   "outputs": [
    {
     "data": {
      "text/plain": [
       "41624"
      ]
     },
     "execution_count": 14,
     "metadata": {},
     "output_type": "execute_result"
    }
   ],
   "source": [
    "len(splitted_documents)"
   ]
  },
  {
   "cell_type": "code",
   "execution_count": 16,
   "metadata": {},
   "outputs": [],
   "source": [
    "vectorstore = FAISS.from_documents(splitted_documents, hf)"
   ]
  },
  {
   "cell_type": "code",
   "execution_count": 17,
   "metadata": {},
   "outputs": [],
   "source": [
    "vectorstore.save_local(\"../data/faiss_index\")"
   ]
  },
  {
   "cell_type": "code",
   "execution_count": 19,
   "metadata": {},
   "outputs": [],
   "source": [
    "vectorstore = FAISS.load_local(\"../data/faiss_index\",hf)"
   ]
  },
  {
   "cell_type": "code",
   "execution_count": 20,
   "metadata": {},
   "outputs": [],
   "source": [
    "similar_docs = vectorstore.similarity_search(\"The quick brown fox jumps over the lazy dog\", k=5)"
   ]
  },
  {
   "cell_type": "code",
   "execution_count": 29,
   "metadata": {},
   "outputs": [
    {
     "name": "stdout",
     "output_type": "stream",
     "text": [
      "('a fox. Foxes eat small animals in the wild so do not keep a fox around '\n",
      " 'smaller animals especially birds or rodents. Never leave a fox alone with '\n",
      " 'other animals. Foxes are omnivores, so they can eat a large variety of '\n",
      " 'foods. Give them a high quality medium sized dog food and consult a vet '\n",
      " 'about other food options.  Fox diets can include meats and vegetables to '\n",
      " 'supplement basic dog food. Check with your vet. Leave out some dry dog food '\n",
      " 'for the fox during the day. Try adding a can of wet cat food mixed with')\n",
      "'in quickly, staying alert for potential dog movement.'\n",
      "(\"kill other animals even if they aren't hungry, including neighborhood pets. \"\n",
      " 'Give your fox a collar and tags so if it does get away it will not be '\n",
      " 'mistaken for a wild fox. Foxes are very high energy animals, so they need a '\n",
      " 'lot of exercise. About an hour or two a day will wear your pet down. Always '\n",
      " 'use a harness for walks. The collar is for identification, but a leash '\n",
      " 'should be attached to a harness because attaching it to a collar can choke '\n",
      " 'the fox. Foxes, like dogs and cats, can have tooth decay, so')\n",
      "(\"can be tough on the fox's paws. Make sure to cover a concrete floor in dirt \"\n",
      " 'or mulch.  Another option is burying chain-link fencing under soil or mulch. '\n",
      " 'This will keep the fox enclosed even if they dig down. The fenced enclosure '\n",
      " 'needs to be covered to keep the fox from climbing out. A larger dog house '\n",
      " 'will work well as a place for your fox to sleep and hang out. Fill it with '\n",
      " 'blankets, hay or straw, or something else warm for it to sleep on. Foxes are '\n",
      " 'very active and love to have toys to play with. Try out')\n",
      "('the fox does not flip them over. Acquire some toys for your fox to play with '\n",
      " 'inside. Even if your fox has outdoor toys you may want additional toys for '\n",
      " 'inside so that dirty toys are not brought inside your home. Get a nice pet '\n",
      " 'bed for your fox. Some foxes like to sleep in your bed with you, but others '\n",
      " 'prefer their own bed. Foxes can behave a lot like cats in this area. Foxes '\n",
      " 'shed in heavily summer months, so they need to be brushed regularly.')\n"
     ]
    }
   ],
   "source": [
    "for doc in similar_docs:\n",
    "    pprint.pprint(doc.page_content)"
   ]
  },
  {
   "cell_type": "code",
   "execution_count": 30,
   "metadata": {},
   "outputs": [
    {
     "data": {
      "text/plain": [
       "[(Document(page_content='a fox. Foxes eat small animals in the wild so do not keep a fox around smaller animals especially birds or rodents. Never leave a fox alone with other animals. Foxes are omnivores, so they can eat a large variety of foods. Give them a high quality medium sized dog food and consult a vet about other food options.  Fox diets can include meats and vegetables to supplement basic dog food. Check with your vet. Leave out some dry dog food for the fox during the day. Try adding a can of wet cat food mixed with', metadata={'source': 'local', 'id': 833}),\n",
       "  0.38002527),\n",
       " (Document(page_content='in quickly, staying alert for potential dog movement.', metadata={'source': 'local', 'id': 3689}),\n",
       "  0.39186782),\n",
       " (Document(page_content=\"kill other animals even if they aren't hungry, including neighborhood pets. Give your fox a collar and tags so if it does get away it will not be mistaken for a wild fox. Foxes are very high energy animals, so they need a lot of exercise. About an hour or two a day will wear your pet down. Always use a harness for walks. The collar is for identification, but a leash should be attached to a harness because attaching it to a collar can choke the fox. Foxes, like dogs and cats, can have tooth decay, so\", metadata={'source': 'local', 'id': 833}),\n",
       "  0.39578223),\n",
       " (Document(page_content=\"can be tough on the fox's paws. Make sure to cover a concrete floor in dirt or mulch.  Another option is burying chain-link fencing under soil or mulch. This will keep the fox enclosed even if they dig down. The fenced enclosure needs to be covered to keep the fox from climbing out. A larger dog house will work well as a place for your fox to sleep and hang out. Fill it with blankets, hay or straw, or something else warm for it to sleep on. Foxes are very active and love to have toys to play with. Try out\", metadata={'source': 'local', 'id': 7042}),\n",
       "  0.39676774),\n",
       " (Document(page_content='the fox does not flip them over. Acquire some toys for your fox to play with inside. Even if your fox has outdoor toys you may want additional toys for inside so that dirty toys are not brought inside your home. Get a nice pet bed for your fox. Some foxes like to sleep in your bed with you, but others prefer their own bed. Foxes can behave a lot like cats in this area. Foxes shed in heavily summer months, so they need to be brushed regularly.', metadata={'source': 'local', 'id': 4739}),\n",
       "  0.3989974)]"
      ]
     },
     "execution_count": 30,
     "metadata": {},
     "output_type": "execute_result"
    }
   ],
   "source": [
    "vectorstore.similarity_search_with_score(\"The quick brown fox jumps over the lazy dog\", k=5)"
   ]
  },
  {
   "cell_type": "code",
   "execution_count": 31,
   "metadata": {},
   "outputs": [],
   "source": [
    "val_index = 0\n",
    "validation_sample = validation_split[0]\n",
    "validation_document = Document(page_content=validation_sample[\"document\"], metadata={\"source\": \"local\",\"id\":val_index})\n",
    "\n",
    "splitted_validation_document = text_splitter.split_documents([validation_document])"
   ]
  },
  {
   "cell_type": "code",
   "execution_count": 32,
   "metadata": {},
   "outputs": [
    {
     "data": {
      "text/plain": [
       "[Document(page_content='Draw a number line, but place your zero to the far right of the line. Then, number your line toward your left using negative numbers. Mark the first negative number you want to add on the number line. Then, count out your second negative number, moving to the left. This gives you your answer. For example, let’s say you’re adding -4+-6. You’d circle -4 on your number line. Then, count 6 spaces to the left. You’ll arrive at -10, which is your answer. This is because you are moving the same number of places on', metadata={'source': 'local', 'id': 0}),\n",
       " Document(page_content='number of places on the number line, just toward the negative side. This means your final answer will be negative. For example, when adding -12+-21, you could add 12+21=33. However, since your numbers were negative, you’d make your answer -33. Draw a number line with zero in the middle. Number to the left moving from -1 to -10, then number to the right 1 to 10. Circle the positive number on your number line. Then, count out your negative number to find the answer, moving to the left on your number line.', metadata={'source': 'local', 'id': 0}),\n",
       " Document(page_content='your number line. For instance, let’s say you’re adding 6+-8. You’ll circle 6 on your number line. Then, count 8 spaces backwards, moving to the left on your line. You’ll arrive at -2, which is your answer. Adding a negative number with a positive number works just like subtraction. This is because you’re taking away spaces on the number line. When you’re solving a problem on paper, you can write it out like a subtraction problem. For example, 15+-17 would become 15-17=-2.', metadata={'source': 'local', 'id': 0})]"
      ]
     },
     "execution_count": 32,
     "metadata": {},
     "output_type": "execute_result"
    }
   ],
   "source": [
    "splitted_validation_document[:5]"
   ]
  },
  {
   "cell_type": "code",
   "execution_count": 33,
   "metadata": {},
   "outputs": [],
   "source": [
    "similar_documents = []\n",
    "for doc in splitted_validation_document:\n",
    "    similar_documents.append(vectorstore.similarity_search_with_score(doc.page_content, k=5))\n",
    "similar_documents = [(item[1],item[0]) for sublist in similar_documents for item in sublist]"
   ]
  },
  {
   "cell_type": "code",
   "execution_count": 38,
   "metadata": {},
   "outputs": [
    {
     "name": "stdout",
     "output_type": "stream",
     "text": [
      "('Draw a number line, but place your zero to the far right of the line. Then, '\n",
      " 'number your line toward your left using negative numbers. Mark the first '\n",
      " 'negative number you want to add on the number line. Then, count out your '\n",
      " 'second negative number, moving to the left. This gives you your answer. For '\n",
      " 'example, let’s say you’re adding -4+-6. You’d circle -4 on your number line. '\n",
      " 'Then, count 6 spaces to the left. You’ll arrive at -10, which is your '\n",
      " 'answer. This is because you are moving the same number of places on the '\n",
      " 'number line, just toward the negative side. This means your final answer '\n",
      " 'will be negative. For example, when adding -12+-21, you could add 12+21=33. '\n",
      " 'However, since your numbers were negative, you’d make your answer -33. Draw '\n",
      " 'a number line with zero in the middle. Number to the left moving from -1 to '\n",
      " '-10, then number to the right 1 to 10. Circle the positive number on your '\n",
      " 'number line. Then, count out your negative number to find the answer, moving '\n",
      " 'to the left on your number line. For instance, let’s say you’re adding 6+-8. '\n",
      " 'You’ll circle 6 on your number line. Then, count 8 spaces backwards, moving '\n",
      " 'to the left on your line. You’ll arrive at -2, which is your answer. Adding '\n",
      " 'a negative number with a positive number works just like subtraction. This '\n",
      " 'is because you’re taking away spaces on the number line. When you’re solving '\n",
      " 'a problem on paper, you can write it out like a subtraction problem. For '\n",
      " 'example, 15+-17 would become 15-17=-2.')\n"
     ]
    }
   ],
   "source": [
    "#orignal document\n",
    "pprint.pprint(validation_document.page_content)"
   ]
  },
  {
   "cell_type": "code",
   "execution_count": 37,
   "metadata": {},
   "outputs": [
    {
     "name": "stdout",
     "output_type": "stream",
     "text": [
      "('Draw a line, then write numbers along the line from 0-15. Circle the first '\n",
      " 'number you want to add. Start at that number. Then, count down your number '\n",
      " 'line, moving the same number of spaces as the second number you’re adding. '\n",
      " 'You’ll land on your answer.  Let’s say you want to add 4+5. Circle 4 on your '\n",
      " 'number line, then count 5 spaces down the line. You will land on 9, which is '\n",
      " 'your answer. Use your number line to add these numbers:  5+3 1+7 6+2 4+4 '\n",
      " 'Start with a basic math problem, such as 4+6. Create two')\n"
     ]
    }
   ],
   "source": [
    "pprint.pprint(similar_documents[0][1].page_content)"
   ]
  },
  {
   "cell_type": "code",
   "execution_count": 40,
   "metadata": {},
   "outputs": [
    {
     "name": "stdout",
     "output_type": "stream",
     "text": [
      "('Draw a line, then write numbers along the line from 0-15. Circle the first '\n",
      " 'number you want to add. Start at that number. Then, count down your number '\n",
      " 'line, moving the same number of spaces as the second number you’re adding. '\n",
      " 'You’ll land on your answer.  Let’s say you want to add 4+5. Circle 4 on your '\n",
      " 'number line, then count 5 spaces down the line. You will land on 9, which is '\n",
      " 'your answer. Use your number line to add these numbers:  5+3 1+7 6+2 4+4 '\n",
      " 'Start with a basic math problem, such as 4+6. Create two piles of beans to '\n",
      " 'represent your problem, including one group of 4 beans and one group of 6 '\n",
      " 'beans. Next, you can combine your two sets of beans to get the answer to '\n",
      " 'your addition problem. Count your beans to see that you now have a total of '\n",
      " '10 beans.  If you don’t have beans, you can use any small item that fits in '\n",
      " 'your hand to practice addition! For example, you can use blocks, candies, '\n",
      " 'coins, or legos. Use your beans to add these numbers:  5+3 2+7 3+9 4+1 If '\n",
      " 'you were adding 7+4, you’d draw one group of 7 oranges and one group of 4 '\n",
      " 'oranges. Then, count all of the oranges to see how many you have when you '\n",
      " 'add them together, which is 11 oranges. This is your answer.  You can draw '\n",
      " 'any object to represent your numbers, but it’s best to choose something '\n",
      " 'easy. As another option, you can use stickers! Use drawing to add these '\n",
      " 'numbers:  1+7 2+5 8+6 4+3')\n"
     ]
    }
   ],
   "source": [
    "#full text of the similar document\n",
    "pprint.pprint(documents[similar_documents[0][1].metadata[\"id\"]].page_content)"
   ]
  },
  {
   "cell_type": "code",
   "execution_count": 41,
   "metadata": {},
   "outputs": [],
   "source": [
    "similar_documents.sort(key=lambda tup: tup[0],reverse=False)"
   ]
  },
  {
   "cell_type": "code",
   "execution_count": 42,
   "metadata": {},
   "outputs": [],
   "source": [
    "top_k = 2\n",
    "top_k_documents = [item[1].metadata['id'] for item in similar_documents[:top_k]]"
   ]
  },
  {
   "cell_type": "code",
   "execution_count": 43,
   "metadata": {},
   "outputs": [
    {
     "data": {
      "text/plain": [
       "[11087, 11087]"
      ]
     },
     "execution_count": 43,
     "metadata": {},
     "output_type": "execute_result"
    }
   ],
   "source": [
    "top_k_documents"
   ]
  }
 ],
 "metadata": {
  "kernelspec": {
   "display_name": "pytorch",
   "language": "python",
   "name": "python3"
  },
  "language_info": {
   "codemirror_mode": {
    "name": "ipython",
    "version": 3
   },
   "file_extension": ".py",
   "mimetype": "text/x-python",
   "name": "python",
   "nbconvert_exporter": "python",
   "pygments_lexer": "ipython3",
   "version": "3.9.18"
  }
 },
 "nbformat": 4,
 "nbformat_minor": 2
}
