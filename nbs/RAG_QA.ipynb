{
 "cells": [
  {
   "cell_type": "code",
   "execution_count": 6,
   "metadata": {},
   "outputs": [
    {
     "data": {
      "text/plain": [
       "True"
      ]
     },
     "execution_count": 6,
     "metadata": {},
     "output_type": "execute_result"
    }
   ],
   "source": [
    "import pprint\n",
    "import os\n",
    "import torch\n",
    "import transformers\n",
    "import yaml\n",
    "from langchain.vectorstores import FAISS\n",
    "from langchain.embeddings import HuggingFaceEmbeddings\n",
    "from dotenv import load_dotenv\n",
    "\n",
    "load_dotenv()"
   ]
  },
  {
   "cell_type": "markdown",
   "metadata": {},
   "source": [
    "# Load Models"
   ]
  },
  {
   "cell_type": "markdown",
   "metadata": {},
   "source": [
    "## Load Embedding Model"
   ]
  },
  {
   "cell_type": "code",
   "execution_count": 2,
   "metadata": {},
   "outputs": [],
   "source": [
    "model_name = 'sentence-transformers/sentence-t5-base'\n",
    "model_kwargs = {'device': 'cuda'}\n",
    "\n",
    "hf = HuggingFaceEmbeddings(\n",
    "    model_name=model_name,\n",
    "    model_kwargs=model_kwargs,\n",
    "\n",
    ")"
   ]
  },
  {
   "cell_type": "markdown",
   "metadata": {},
   "source": [
    "## Load Llama 2 Model"
   ]
  },
  {
   "cell_type": "code",
   "execution_count": 17,
   "metadata": {},
   "outputs": [
    {
     "name": "stderr",
     "output_type": "stream",
     "text": [
      "/opt/conda/envs/NLP/lib/python3.9/site-packages/transformers/models/auto/configuration_auto.py:1033: FutureWarning: The `use_auth_token` argument is deprecated and will be removed in v5 of Transformers. Please use `token` instead.\n",
      "  warnings.warn(\n",
      "/opt/conda/envs/NLP/lib/python3.9/site-packages/transformers/models/auto/auto_factory.py:472: FutureWarning: The `use_auth_token` argument is deprecated and will be removed in v5 of Transformers. Please use `token` instead.\n",
      "  warnings.warn(\n"
     ]
    },
    {
     "data": {
      "application/vnd.jupyter.widget-view+json": {
       "model_id": "7cb70a8797bb417e89998c775fb428d1",
       "version_major": 2,
       "version_minor": 0
      },
      "text/plain": [
       "Loading checkpoint shards:   0%|          | 0/2 [00:00<?, ?it/s]"
      ]
     },
     "metadata": {},
     "output_type": "display_data"
    },
    {
     "name": "stderr",
     "output_type": "stream",
     "text": [
      "/opt/conda/envs/NLP/lib/python3.9/site-packages/transformers/utils/hub.py:374: FutureWarning: The `use_auth_token` argument is deprecated and will be removed in v5 of Transformers. Please use `token` instead.\n",
      "  warnings.warn(\n"
     ]
    },
    {
     "name": "stdout",
     "output_type": "stream",
     "text": [
      "Model loaded on cuda:0\n"
     ]
    }
   ],
   "source": [
    "config_path =  '../configs/model/Llama_2_7b.yaml'\n",
    "\n",
    "# Load configuration from the YAML file\n",
    "with open(config_path, 'r') as file:\n",
    "    config = yaml.safe_load(file)\n",
    "\n",
    "model_id = config['model']['id']\n",
    "device = config['model']['device']\n",
    "\n",
    "bnb_config = transformers.BitsAndBytesConfig(\n",
    "    load_in_4bit=config['bits_and_bytes']['load_in_4bit'],\n",
    "    bnb_4bit_quant_type=config['bits_and_bytes']['bnb_4bit_quant_type'],\n",
    "    bnb_4bit_use_double_quant=config['bits_and_bytes']['bnb_4bit_use_double_quant'],\n",
    "    bnb_4bit_compute_dtype=getattr(torch, config['bits_and_bytes']['bnb_4bit_compute_dtype'])\n",
    ")\n",
    "\n",
    "hf_auth = os.getenv(\"HF_TOKEN\")\n",
    "\n",
    "model_config = transformers.AutoConfig.from_pretrained(\n",
    "    model_id,\n",
    "    use_auth_token=hf_auth\n",
    ")\n",
    "\n",
    "model = transformers.AutoModelForCausalLM.from_pretrained(\n",
    "    model_id,\n",
    "    trust_remote_code=True,\n",
    "    config=model_config,\n",
    "    quantization_config=bnb_config,\n",
    "    device_map=device if device != 'auto' else 'auto',\n",
    "    use_auth_token=hf_auth\n",
    ")\n",
    "\n",
    "model.eval()\n",
    "\n",
    "actual_device = f'cuda:{torch.cuda.current_device()}' if torch.cuda.is_available() else 'cpu'\n",
    "print(f\"Model loaded on {actual_device}\")\n"
   ]
  },
  {
   "cell_type": "code",
   "execution_count": 19,
   "metadata": {},
   "outputs": [
    {
     "data": {
      "text/plain": [
       "[tensor([    1, 29871,    13, 29950,  7889, 29901], device='cuda:0'),\n",
       " tensor([    1, 29871,    13, 28956,    13], device='cuda:0')]"
      ]
     },
     "execution_count": 19,
     "metadata": {},
     "output_type": "execute_result"
    }
   ],
   "source": [
    "tokenizer = transformers.AutoTokenizer.from_pretrained(\n",
    "    model_id,\n",
    "    use_auth_token=hf_auth\n",
    ")\n",
    "\n",
    "stop_list = ['\\nHuman:', '\\n```\\n']\n",
    "\n",
    "stop_token_ids = [tokenizer(x)['input_ids'] for x in stop_list]\n",
    "stop_token_ids\n",
    "\n",
    "import torch\n",
    "\n",
    "stop_token_ids = [torch.LongTensor(x).to('cuda') for x in stop_token_ids]\n",
    "stop_token_ids"
   ]
  },
  {
   "cell_type": "code",
   "execution_count": 20,
   "metadata": {},
   "outputs": [],
   "source": [
    "from transformers import StoppingCriteria, StoppingCriteriaList\n",
    "\n",
    "# define custom stopping criteria object\n",
    "class StopOnTokens(StoppingCriteria):\n",
    "    def __call__(self, input_ids: torch.LongTensor, scores: torch.FloatTensor, **kwargs) -> bool:\n",
    "        for stop_ids in stop_token_ids:\n",
    "            if torch.eq(input_ids[0][-len(stop_ids):], stop_ids).all():\n",
    "                return True\n",
    "        return False\n",
    "\n",
    "stopping_criteria = StoppingCriteriaList([StopOnTokens()])"
   ]
  },
  {
   "cell_type": "code",
   "execution_count": 21,
   "metadata": {},
   "outputs": [],
   "source": [
    "generate_text = transformers.pipeline(\n",
    "    model=model, \n",
    "    tokenizer=tokenizer,\n",
    "    return_full_text=True, \n",
    "    task='text-generation',\n",
    "    stopping_criteria=stopping_criteria, \n",
    "    temperature=0.1, \n",
    "    max_new_tokens=512,\n",
    "    repetition_penalty=1.1 )"
   ]
  },
  {
   "cell_type": "code",
   "execution_count": 22,
   "metadata": {},
   "outputs": [],
   "source": [
    "from langchain.llms import HuggingFacePipeline\n",
    "\n",
    "llm = HuggingFacePipeline(pipeline=generate_text)"
   ]
  },
  {
   "cell_type": "code",
   "execution_count": 23,
   "metadata": {},
   "outputs": [],
   "source": [
    "out = llm(prompt=\"Complete the following text: \\nThe quick brown fox ...\",)"
   ]
  },
  {
   "cell_type": "code",
   "execution_count": 26,
   "metadata": {},
   "outputs": [
    {
     "name": "stdout",
     "output_type": "stream",
     "text": [
      "\n",
      "\n",
      "A) jumped over a lazy dog.\n",
      "B) ran across the green field.\n",
      "C) climbed up the tall tree.\n",
      "D) swam in the blue ocean.\n",
      "\n",
      "Answer: A) jumped over a lazy dog.\n"
     ]
    }
   ],
   "source": [
    "print(out)"
   ]
  },
  {
   "cell_type": "markdown",
   "metadata": {},
   "source": [
    "# Load pfizer data and create Vector store"
   ]
  },
  {
   "cell_type": "code",
   "execution_count": 31,
   "metadata": {},
   "outputs": [],
   "source": [
    "import glob\n",
    "from langchain.document_loaders import TextLoader"
   ]
  },
  {
   "cell_type": "code",
   "execution_count": 38,
   "metadata": {},
   "outputs": [],
   "source": [
    "year = 2023\n",
    "month = 10 \n",
    "\n",
    "files = glob.glob(f'../data/pfizer/{year}_{month}/*/*.txt')"
   ]
  },
  {
   "cell_type": "code",
   "execution_count": 40,
   "metadata": {},
   "outputs": [
    {
     "data": {
      "text/plain": [
       "['../data/pfizer/2023_10/announcements/power-partnership-our-mission-better-connect-patient-health-journey.txt',\n",
       " '../data/pfizer/2023_10/announcements/easing-healthcare-burden-seasonal-triple-demic-and-pfizers-unwavering-commitment.txt',\n",
       " '../data/pfizer/2023_10/announcements/nobel-prize-awarded-scientists-responsible-mrna-breakthrough.txt',\n",
       " '../data/pfizer/2023_10/announcements/pfizers-covid-19-oral-antiviral-treatment-transitioning-government-distribution.txt',\n",
       " '../data/pfizer/2023_10/announcements/september-social-media-round-dei-cmo-and-rocky-mount-resumes.txt',\n",
       " '../data/pfizer/2023_10/announcements/accelerating-equity-takes-spotlight-pfizers-global-dei-summit.txt',\n",
       " '../data/pfizer/2023_10/press-releases/pfizer-and-biontech-announce-positive-topline-data-mrna.txt',\n",
       " '../data/pfizer/2023_10/press-releases/pfizer-amends-us-government-paxlovid-supply-agreement-and.txt',\n",
       " '../data/pfizer/2023_10/press-releases/pfizer-presents-new-data-idweek-2023-highlighting-advances.txt',\n",
       " '../data/pfizer/2023_10/press-releases/us-fda-approves-pfizers-velsipitytm-adults-moderately.txt',\n",
       " '../data/pfizer/2023_10/press-releases/pfizer-declares-fourth-quarter-2023-dividend.txt',\n",
       " '../data/pfizer/2023_10/press-releases/fda-approves-penbrayatm-first-and-only-vaccine-prevention.txt',\n",
       " '../data/pfizer/2023_10/press-releases/us-fda-approves-pfizers-braftovir-mektovir-braf-v600e.txt',\n",
       " '../data/pfizer/2023_10/updates-and-statements/fda-grants-interchangeable-designation-pfizers-biosimilar-abriladatm.txt',\n",
       " '../data/pfizer/2023_10/updates-and-statements/hospira-inc-issues-voluntary-nationwide-recall-42-sodium-bicarbonate-injection.txt',\n",
       " '../data/pfizer/2023_10/updates-and-statements/pfizers-penbrayatm-receives-recommendation-prevention-meningococcal-disease.txt',\n",
       " '../data/pfizer/2023_10/updates-and-statements/pfizers-elrexfiotm-receives-positive-chmp-opinion-relapsed-and-refractory.txt']"
      ]
     },
     "execution_count": 40,
     "metadata": {},
     "output_type": "execute_result"
    }
   ],
   "source": [
    "files"
   ]
  },
  {
   "cell_type": "code",
   "execution_count": 53,
   "metadata": {},
   "outputs": [],
   "source": [
    "documents = []\n",
    "for file in files:\n",
    "    loader = TextLoader(file)\n",
    "    documents.append(loader.load()[0])"
   ]
  },
  {
   "cell_type": "code",
   "execution_count": 55,
   "metadata": {},
   "outputs": [],
   "source": [
    "from langchain.text_splitter import RecursiveCharacterTextSplitter\n",
    "\n",
    "text_splitter = RecursiveCharacterTextSplitter(chunk_size=512, chunk_overlap=20)\n",
    "all_splits = text_splitter.split_documents(documents)"
   ]
  },
  {
   "cell_type": "code",
   "execution_count": 56,
   "metadata": {},
   "outputs": [],
   "source": [
    "vectorstore = FAISS.from_documents(all_splits, hf)"
   ]
  },
  {
   "cell_type": "code",
   "execution_count": 58,
   "metadata": {},
   "outputs": [
    {
     "data": {
      "text/plain": [
       "[Document(page_content='View the full Prescribing Information. There may be a delay as the document is updated with the latest information. \\xa0It will be available as soon as possible. Please check back for the updated full information shortly.\\xa0\\nU.S. Indication for TRUMENBA® (meningococcal group B vaccine)\\nTRUMENBA® (meningococcal group B vaccine) is indicated for active immunization to prevent invasive disease caused by Neisseria meningitidis serogroup B in individuals aged 10 through 25 years of age..Important Safety Information', metadata={'source': '../data/pfizer/2023_10/press-releases/fda-approves-penbrayatm-first-and-only-vaccine-prevention.txt'}),\n",
       " Document(page_content='Virus Vaccine), the company’s bivalent respiratory syncytial virus prefusion F (RSVpreF) vaccine for maternal immunization to protect infants against RSV illness.', metadata={'source': '../data/pfizer/2023_10/press-releases/pfizer-presents-new-data-idweek-2023-highlighting-advances.txt'}),\n",
       " Document(page_content='Please click here for full Prescribing Information for COMIRNATY.\\nAUTHORIZED USE\\nPfizer-BioNTech COVID-19 Vaccine (2023-2024 Formula)*is FDA authorized under Emergency Use Authorization (EUA) to prevent coronavirus disease 2019 (COVID-19) caused by severe acute respiratory syndrome coronavirus 2 (SARS-CoV-2) in individuals 6 months through 11 years of age.\\n*Hereafter referred to as Pfizer-BioNTech COVID-19 Vaccine\\nEMERGENCY USE AUTHORIZATION', metadata={'source': '../data/pfizer/2023_10/press-releases/pfizer-amends-us-government-paxlovid-supply-agreement-and.txt'}),\n",
       " Document(page_content='have received a vaccine in the past 4 weeks or are scheduled to receive a vaccine. You should be brought up to date with all age-required vaccines before starting treatment with VELSIPITY. VELSIPITY may affect how well a vaccine works. Tell your healthcare provider that you are receiving treatment with VELSIPITY before receiving a vaccine.', metadata={'source': '../data/pfizer/2023_10/press-releases/us-fda-approves-pfizers-velsipitytm-adults-moderately.txt'})]"
      ]
     },
     "execution_count": 58,
     "metadata": {},
     "output_type": "execute_result"
    }
   ],
   "source": [
    "vectorstore.similarity_search(\"What is the status of RSV vaccine\")"
   ]
  },
  {
   "cell_type": "code",
   "execution_count": 59,
   "metadata": {},
   "outputs": [],
   "source": [
    "from langchain.chains import LLMChain\n",
    "from langchain.prompts import PromptTemplate"
   ]
  },
  {
   "cell_type": "code",
   "execution_count": 69,
   "metadata": {},
   "outputs": [],
   "source": [
    "#prompt = PromptTemplate.from_template(\n",
    "#    \"Summarize the main themes in these retrieved docs: {docs}\"\n",
    "#)\n",
    "prompt = PromptTemplate.from_template(\n",
    "    \"Answer the question based on these retrieved docs: {docs}\"\n",
    ")\n",
    "\n",
    "\n",
    "llm_chain = LLMChain(llm=llm, prompt=prompt)"
   ]
  },
  {
   "cell_type": "code",
   "execution_count": 72,
   "metadata": {},
   "outputs": [],
   "source": [
    "question = \"What pfizer says about the seasonality of COVID-19 ?\"\n",
    "docs = vectorstore.similarity_search(question,k=1)\n",
    "result = llm_chain(docs)"
   ]
  },
  {
   "cell_type": "code",
   "execution_count": 74,
   "metadata": {},
   "outputs": [
    {
     "name": "stdout",
     "output_type": "stream",
     "text": [
      "('  Seasonality of COVID-19: The documents highlight the seasonal pattern of '\n",
      " 'COVID-19, with peaks in fall and winter, similar to other respiratory '\n",
      " 'diseases. This suggests that co-infections or consecutive respiratory '\n",
      " 'infections during this period can increase the risk of severe illness. '\n",
      " \"[Document(page_content='“The COVID-19 pandemic has accelerated the \"\n",
      " 'development and approval of vaccines, with multiple vaccine candidates '\n",
      " 'already approved for emergency use and more in various stages of clinical '\n",
      " 'trials. However, the long-term efficacy and safety of these vaccines remain '\n",
      " 'uncertain, particularly in certain vulnerable populations such as children, '\n",
      " 'pregnant women, and immunocompromised individuals,” said Dr. Paul Offit, '\n",
      " 'Director of the Vaccine Education Center at Children’s Hospital of '\n",
      " 'Philadelphia. “While combination vaccines may offer advantages over '\n",
      " 'single-disease vaccines, their development and testing must be carefully '\n",
      " 'considered to ensure they are safe and effective,” he added., '\n",
      " \"metadata={'source': \"\n",
      " \"'../data/moderna/2023_04/press-releases/moderna-therapeutics-announces-positive-topline-results-from-phase-2-clinical-trial.txt'})]  \"\n",
      " 'Vaccine Development: The documents discuss the accelerated development and '\n",
      " 'approval of COVID-19 vaccines, with multiple candidates already approved for '\n",
      " 'emergency use and more in various stages of clinical trials. However, the '\n",
      " 'long-term efficacy and safety of these vaccines remain uncertain, '\n",
      " 'particularly in vulnerable populations. Combination vaccines may offer '\n",
      " 'advantages, but their development and testing must be carefully considered '\n",
      " 'to ensure safety and effectiveness.')\n"
     ]
    }
   ],
   "source": [
    "pprint.pprint(result[\"text\"])"
   ]
  },
  {
   "cell_type": "code",
   "execution_count": null,
   "metadata": {},
   "outputs": [],
   "source": []
  }
 ],
 "metadata": {
  "kernelspec": {
   "display_name": "pytorch",
   "language": "python",
   "name": "python3"
  },
  "language_info": {
   "codemirror_mode": {
    "name": "ipython",
    "version": 3
   },
   "file_extension": ".py",
   "mimetype": "text/x-python",
   "name": "python",
   "nbconvert_exporter": "python",
   "pygments_lexer": "ipython3",
   "version": "3.9.18"
  }
 },
 "nbformat": 4,
 "nbformat_minor": 2
}
